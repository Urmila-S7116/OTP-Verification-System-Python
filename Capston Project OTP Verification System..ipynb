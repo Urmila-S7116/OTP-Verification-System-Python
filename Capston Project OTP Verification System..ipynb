{
 "cells": [
  {
   "cell_type": "raw",
   "id": "04f0cea8-40d4-479a-bd39-2ae46847672f",
   "metadata": {},
   "source": [
    "# Python - Capstone Project\n",
    "# Project Title: OTP Verification System\n",
    "# Problem Statement:\n",
    "# Tasked with developing an OTP (One-Time Password) verification system in Python. \n",
    "# The system should generate a 6-digit OTP and send it to the user's email address for verification. \n",
    "# Upon receiving the OTP, the user should enter it into the system for validation. \n",
    "# If the entered OTP matches the generated OTP, access should be granted otherwise, access should be denied."
   ]
  },
  {
   "cell_type": "code",
   "execution_count": 7,
   "id": "f9392543-4c37-4848-8f5a-351a65c5e038",
   "metadata": {},
   "outputs": [],
   "source": [
    "import random   # This module is used to generate random number \n",
    "import smtplib  #It defines an SMTP client session object that can be used to send mail to any Internet machine with an SMTP\n",
    "# imports the MIMEText class from the email.mime.text module. \n",
    "# MIMEText is a class used for creating MIME (Multipurpose Internet Mail Extensions) objects for representing textual content in an email message.\n",
    "from email.mime.text import MIMEText\n",
    "# MIMEMultipart is a class used for creating MIME objects that can contain multiple parts, such as both text and attachments, in an email message.\n",
    "# It allows to construct complex email messages with multiple parts.\n",
    "from email.mime.multipart import MIMEMultipart"
   ]
  },
  {
   "cell_type": "code",
   "execution_count": 8,
   "id": "adf1ffed-2775-4f33-83a3-bf639f159592",
   "metadata": {},
   "outputs": [],
   "source": [
    "#Implement a function to generate a 6-digit OTP randomly.\n",
    "\n",
    "def generate_otp():\n",
    "    \"\"\"Generate a 6-digit OTP.\"\"\" #Docstring for clarity \n",
    "    return ''.join(random.choices('0123456789', k=6)) #select 6 digit from the string and join the list of 6 digit into a string to forming the OTP"
   ]
  },
  {
   "cell_type": "code",
   "execution_count": 9,
   "id": "3937cac7-f735-4b4c-9967-b83d2820956e",
   "metadata": {},
   "outputs": [],
   "source": [
    "#Develop a function to simulate sending the OTP to the user's email address.\n",
    "\n",
    "def send_otp_email(email, otp): #This function sends the OTP to the specified email address\n",
    "    \"\"\"Send OTP to the user's email.\"\"\"\n",
    "    sender_email = \"divekarurmila1401@gmail.com\" #The email address sending the OTP.\n",
    "    receiver_email = email #The recipient's email address.\n",
    "    password = \"vkeg urze qpql lcmm\"  # app-specific password\n",
    "    \n",
    "    message = MIMEMultipart() #Creates a new MIMEMultipart email object message.\n",
    "    message['From'] = sender_email #set the sender email\n",
    "    message['To'] = receiver_email #set receiver email\n",
    "    message['Subject'] = \"OTP Verification\" # set subject of email\n",
    "    \n",
    "    body = f\"Your OTP is: {otp}\" #Body of the email, which include OTP\n",
    "    message.attach(MIMEText(body, 'plain')) #Attached body of the email as plain text\n",
    "    \n",
    "    try:  #Try-except block helps to handle errors that can occur during the process of sending an email.\n",
    "        with smtplib.SMTP_SSL('smtp.gmail.com', 465) as server:  #Connects to the Gmail SMTP server using SSL.\n",
    "            server.login(sender_email, password)  #Logs into the SMTP server with the sender's email and password.\n",
    "            server.sendmail(sender_email, receiver_email, message.as_string()) # send the email\n",
    "        print(\"OTP sent successfully.\")\n",
    "    except smtplib.SMTPAuthenticationError as e:  #This catches SMTPAuthenticationError exceptions, \n",
    "                                                  #which occur if there is an authentication error with the SMTP server \n",
    "        print(\"Failed to authenticate with the SMTP server. Check your email and password.\")\n",
    "        print(f\"Error: {e}\") #This prints the specific error message associated with the SMTPAuthenticationError exception.\n",
    "    except smtplib.SMTPDataError as e: #This catches SMTPDataError exceptions, which occur if there is a problem with the email data \n",
    "        print(\"Failed to send OTP email due to SMTP data error.\") #This prints an error message indicating that there was an issue with the email data.\n",
    "        print(f\"Error: {e}\") #This prints the specific error message associated with the SMTPDataError exception.\n",
    "    except smtplib.SMTPException as e:\n",
    "        print(\"An SMTP error occurred.\")\n",
    "        print(f\"Error: {e}\")\n",
    "    except Exception as e:\n",
    "        print(\"An error occurred while sending the OTP email.\")\n",
    "        print(f\"Error: {e}\")"
   ]
  },
  {
   "cell_type": "code",
   "execution_count": 10,
   "id": "edd0b16f-a19c-4abe-b7dd-f5731657d5b4",
   "metadata": {},
   "outputs": [],
   "source": [
    "#Create a function to prompt the user to enter the OTP received in their email.\n",
    "\n",
    "def prompt_user_for_otp(): #This function prompts the user to enter the OTP received via email.\n",
    "    \"\"\"Prompt the user to enter the OTP.\"\"\"\n",
    "    return input(\"Please enter the OTP sent to your email: \") #Displays a prompt to the user and returns the entered OTP."
   ]
  },
  {
   "cell_type": "code",
   "execution_count": 11,
   "id": "16695617-9b97-4af4-8799-d2ce9e15a97c",
   "metadata": {},
   "outputs": [],
   "source": [
    "#Implement a function to verify if the entered OTP matches the generated OTP.\n",
    "\n",
    "def verify_otp(otp, entered_otp): #This function checks if the entered OTP matches the generated OTP.\n",
    "    \"\"\"Verify if the entered OTP matches the generated OTP.\"\"\"\n",
    "    return otp == entered_otp #Returns True if the OTPs match otherwise it should be False."
   ]
  },
  {
   "cell_type": "code",
   "execution_count": 12,
   "id": "eb698702-2491-44f7-bca5-6a4e1c343722",
   "metadata": {},
   "outputs": [
    {
     "name": "stdin",
     "output_type": "stream",
     "text": [
      "Enter your email address:  divekarurmila1401@gmail.com\n"
     ]
    },
    {
     "name": "stdout",
     "output_type": "stream",
     "text": [
      "OTP sent successfully.\n"
     ]
    },
    {
     "name": "stdin",
     "output_type": "stream",
     "text": [
      "Please enter the OTP sent to your email:  234ffsd\n"
     ]
    },
    {
     "name": "stdout",
     "output_type": "stream",
     "text": [
      "Invalid OTP. 2 attempts left.\n"
     ]
    },
    {
     "name": "stdin",
     "output_type": "stream",
     "text": [
      "Please enter the OTP sent to your email:  saDAsf\n"
     ]
    },
    {
     "name": "stdout",
     "output_type": "stream",
     "text": [
      "Invalid OTP. 1 attempts left.\n"
     ]
    },
    {
     "name": "stdin",
     "output_type": "stream",
     "text": [
      "Please enter the OTP sent to your email:  AWRad\n"
     ]
    },
    {
     "name": "stdout",
     "output_type": "stream",
     "text": [
      "Invalid OTP. 0 attempts left.\n",
      "Maximum attempts reached. Access denied.\n"
     ]
    }
   ],
   "source": [
    "#Main Function to control the flow\n",
    "\n",
    "def main(): #This function controls the flow of the program.\n",
    "    email = input(\"Enter your email address: \") #Prompts the user to enter their email address.\n",
    "    otp = generate_otp() #Generate a 6 digit OTP\n",
    "    send_otp_email(email, otp) #Sends the OTP to the user's email.\n",
    "    \n",
    "    attempts = 3 #Sets the number of allowed attempts for entering the OTP.\n",
    "    while attempts > 0: #Loops while there are remaining attempts\n",
    "        entered_otp = prompt_user_for_otp()  #Prompts the user to enter the OTP.\n",
    "        if verify_otp(otp, entered_otp):  #Checks if the entered OTP matches the generated OTP.\n",
    "            print(\"OTP verified. Access granted!\") #Prints a success message if the OTP is correct .\n",
    "            break #breaks the loop\n",
    "        else: \n",
    "            attempts -= 1 #Decrements the number of attempts \n",
    "            print(f\"Invalid OTP. {attempts} attempts left.\") #prints a message if the OTP is incorrect.\n",
    "    if attempts == 0: \n",
    "        print(\"Maximum attempts reached. Access denied.\") #Prints a failure message if all attempts are used.\n",
    "\n",
    "if __name__ == \"__main__\": #It ensures that main is called only if the script is run directly.\n",
    "    main()\n"
   ]
  }
 ],
 "metadata": {
  "kernelspec": {
   "display_name": "Python 3 (ipykernel)",
   "language": "python",
   "name": "python3"
  },
  "language_info": {
   "codemirror_mode": {
    "name": "ipython",
    "version": 3
   },
   "file_extension": ".py",
   "mimetype": "text/x-python",
   "name": "python",
   "nbconvert_exporter": "python",
   "pygments_lexer": "ipython3",
   "version": "3.11.7"
  }
 },
 "nbformat": 4,
 "nbformat_minor": 5
}
